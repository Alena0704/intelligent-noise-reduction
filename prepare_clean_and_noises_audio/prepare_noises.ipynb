{
  "nbformat": 4,
  "nbformat_minor": 0,
  "metadata": {
    "colab": {
      "name": "prepare_noises.ipynb",
      "provenance": [],
      "collapsed_sections": []
    },
    "kernelspec": {
      "name": "python3",
      "display_name": "Python 3"
    },
    "language_info": {
      "name": "python"
    }
  },
  "cells": [
    {
      "cell_type": "markdown",
      "metadata": {
        "id": "olRyz-vImot0"
      },
      "source": [
        "#Удалим паузы из аудио с помощью библиотеки sox\n",
        "\n",
        "Импортируем библиотеку\n"
      ]
    },
    {
      "cell_type": "code",
      "metadata": {
        "id": "AtWhN84WmiXQ"
      },
      "source": [
        "!apt-get install sox"
      ],
      "execution_count": null,
      "outputs": []
    },
    {
      "cell_type": "markdown",
      "metadata": {
        "id": "fc_i1OuIm1dW"
      },
      "source": [
        "bash язык для удаления пауз из аудио"
      ]
    },
    {
      "cell_type": "code",
      "metadata": {
        "id": "1vmYVYHrmn2m"
      },
      "source": [
        "%%bash\n",
        "\n",
        "for file in `find -type f -name \"*.wav\"`\n",
        "do\n",
        "   VAR1=$(basename -- \"$file\")\n",
        "   \n",
        "   VAR2=\"../silence-removal/noises_without_silence1/${VAR1}\"\n",
        "   sox ${VAR1} ${VAR2} silence 1 0.1 0.3%\n",
        "done"
      ],
      "execution_count": null,
      "outputs": []
    },
    {
      "cell_type": "markdown",
      "metadata": {
        "id": "UTkWZIq7nGd1"
      },
      "source": [
        "Нужно проверить, какие аудио полностью ушли (слишком тихие шумы), а целые файлы перенести в другую папку"
      ]
    },
    {
      "cell_type": "code",
      "metadata": {
        "id": "guxuvbQmnR1i"
      },
      "source": [
        "import os\n",
        "import librosa\n",
        "import math\n",
        "import numpy as np\n",
        "lst_aud = []\n",
        "for i in lst:\n",
        "  str_=os.path.join('silence-removal/noises_without_silence1',i)\n",
        "  if os.path.exists(str_) == True:\n",
        "    try:\n",
        "      x, sr = librosa.load(str_, sr=16000)\n",
        "    except:\n",
        "      print(str_)"
      ],
      "execution_count": null,
      "outputs": []
    }
  ]
}