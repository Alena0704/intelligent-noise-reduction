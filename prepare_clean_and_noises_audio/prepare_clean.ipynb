{
  "nbformat": 4,
  "nbformat_minor": 0,
  "metadata": {
    "colab": {
      "name": "prepare_clean.ipynb",
      "provenance": []
    },
    "kernelspec": {
      "name": "python3",
      "display_name": "Python 3"
    },
    "language_info": {
      "name": "python"
    }
  },
  "cells": [
    {
      "cell_type": "code",
      "metadata": {
        "id": "qMw1xie-k1ln"
      },
      "source": [
        "import pandas\n",
        "df= pd.read_csv('manifest_clean_signal_1_021.csv')"
      ],
      "execution_count": null,
      "outputs": []
    },
    {
      "cell_type": "code",
      "metadata": {
        "id": "cc3Bng8jj_pV"
      },
      "source": [
        "def get_rms(signal):\n",
        "  rms = np.sqrt(np.mean(np.square(signal)))\n",
        "  return np.double(rms)"
      ],
      "execution_count": null,
      "outputs": []
    },
    {
      "cell_type": "code",
      "metadata": {
        "id": "x40_VRIdjgLU"
      },
      "source": [
        "!pip install soundfile\n",
        "import soundfile as sf\n",
        "\n",
        "def create_wav(filename, signal):\n",
        "  sf.write(os.path.join('clean_noises_1_02', filename), signal, 16000)"
      ],
      "execution_count": null,
      "outputs": []
    },
    {
      "cell_type": "code",
      "metadata": {
        "id": "Clmt_txwikHs"
      },
      "source": [
        "import librosa\n",
        "import os\n",
        "import soundfile\n",
        "import math\n",
        "import shutil\n",
        "import numpy as np\n",
        "lst = []\n",
        "for i in df1.itertuples(index=False):\n",
        "  x, sr = librosa.load(i.path, sr = 16000)\n",
        "  k=0\n",
        "  cnt = len(x) // 16000\n",
        "  for j in range(cnt):\n",
        "    x1 = x[16000*2*(k):16000*2*(k+1)]\n",
        "    if(get_rms(x1)<0.000001 or (len(x1)/sr) != 2.0):\n",
        "      continue\n",
        "    str_=os.path.basename(i.path)\n",
        "    arr = str_.split('.')[0]\n",
        "    i1 = \"new_noises/{}{}.wav\".format(arr,(k+1))\n",
        "    \n",
        "    create_wav(i1, x1)\n",
        "    lst.append([i1, i.type,get_rms(x1), get_main_frec(i1)])\n",
        "    k=k+1\n",
        "  "
      ],
      "execution_count": null,
      "outputs": []
    },
    {
      "cell_type": "code",
      "metadata": {
        "id": "AzQ8jhIClhhw"
      },
      "source": [
        "df_csv = pd.DataFrame(data = lst, columns=['path', 'type', 'rms', 'main_frequency'])\n",
        "df_csv.to_csv('new_noises.csv', encoding='utf-8', sep=',', index=False)"
      ],
      "execution_count": null,
      "outputs": []
    },
    {
      "cell_type": "markdown",
      "metadata": {
        "id": "gHiUGtRMk_yt"
      },
      "source": [
        "Pitch-tracking, или определение частоты основного тона в речи, на примерах алгоритмов Praat, YAAPT и YIN https://www.pvsm.ru/python/285345"
      ]
    },
    {
      "cell_type": "code",
      "metadata": {
        "id": "gUaegbsqk6_G"
      },
      "source": [
        "def get_main_frec(str_):\n",
        "  import amfm_decompy.pYAAPT as pYAAPT\n",
        "  import amfm_decompy.basic_tools as basic\n",
        "  import numpy\n",
        "  signal = basic.SignalObj(str_)\n",
        "  pitchY = pYAAPT.yaapt(signal,sample_rate=16000, frame_length = 20,tda_frame_length=20, f0_min = 85, f0_max = 450)\n",
        "  return numpy.max(pitchY.samp_values)"
      ],
      "execution_count": null,
      "outputs": []
    }
  ]
}